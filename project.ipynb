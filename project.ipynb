{
 "cells": [
  {
   "cell_type": "markdown",
   "metadata": {},
   "source": [
    "# Big Ideas in CS Final Project\n",
    "# Team Plumber Pandas"
   ]
  },
  {
   "cell_type": "code",
   "execution_count": null,
   "metadata": {},
   "outputs": [],
   "source": [
    "import pandas as pd\n",
    "from matplotlib import pyplot as plt\n",
    "\n",
    "dataPublicRestrooms = pd.read_csv('https://data.wprdc.org/datastore/dump/fbb50b02-2879-47cd-abea-ae697ec05170')\n",
    "\n",
    "# make dictionary\n",
    "dataPublicRestrooms_dict = dict()\n",
    "\n",
    "dataWaterFeatures = pd.read_csv('https://data.wprdc.org/dataset/city-water-features/resource/513290a6-2bac-4e41-8029-354cbda6a7b7')\n",
    "\n",
    "# make dictionary\n",
    "dataWaterFeatures_dict = dict()\n",
    "\n",
    "dataPlumbers = pd.read_csv('https://data.wprdc.org/dataset/allegheny-county-plumbers/resource/e8e2e1a7-8a06-4d69-8a0d-12f9e4e99b86')\n",
    "\n",
    "# make dictionary\n",
    "dataPlumbers_dict = dict()"
   ]
  }
 ],
 "metadata": {
  "kernelspec": {
   "display_name": "Python 3.10.8 64-bit (microsoft store)",
   "language": "python",
   "name": "python3"
  },
  "language_info": {
   "name": "python",
   "version": "3.10.8"
  },
  "orig_nbformat": 4,
  "vscode": {
   "interpreter": {
    "hash": "96f7defb9b5b9ea19dc2fee60ef6d04216c527479ca16044c6d9f39c1e474b96"
   }
  }
 },
 "nbformat": 4,
 "nbformat_minor": 2
}
