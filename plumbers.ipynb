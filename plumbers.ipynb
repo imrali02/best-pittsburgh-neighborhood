{
 "cells": [
  {
   "cell_type": "markdown",
   "metadata": {},
   "source": [
    "# Big Ideas in CS Final Project\n",
    "# Dataset: Plumbers (Employment 2010 Census Data)"
   ]
  },
  {
   "cell_type": "code",
   "execution_count": null,
   "metadata": {},
   "outputs": [],
   "source": [
    "import pandas as pd\n",
    "from matplotlib import pyplot as plt\n",
    "\n",
    "#make dictionary\n",
    "dataPlumbers = pd.read_csv(\"https://data.wprdc.org/dataset/40188e1c-6d2e-4f20-9391-607bd3054949/resource/3ffbb824-1368-45d4-9113-019992c475d7/download/employment.xls\")\n"
   ]
  }
 ],
 "metadata": {
  "kernelspec": {
   "display_name": "Python 3.10.2 64-bit",
   "language": "python",
   "name": "python3"
  },
  "language_info": {
   "name": "python",
   "version": "3.10.2"
  },
  "orig_nbformat": 4,
  "vscode": {
   "interpreter": {
    "hash": "369f2c481f4da34e4445cda3fffd2e751bd1c4d706f27375911949ba6bb62e1c"
   }
  }
 },
 "nbformat": 4,
 "nbformat_minor": 2
}
